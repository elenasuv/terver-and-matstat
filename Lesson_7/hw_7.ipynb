{
 "cells": [
  {
   "cell_type": "markdown",
   "metadata": {},
   "source": [
    "1. Даны значения величины заработной платы заемщиков банка (zp) и значения их поведенческого кредитного скоринга (ks): zp = [35, 45, 190, 200, 40, 70, 54, 150, 120, 110], ks = [401, 574, 874, 919, 459, 739, 653, 902, 746, 832]. Используя математические операции, посчитать коэффициенты линейной регрессии, приняв за X заработную плату (то есть, zp - признак), а за y - значения скорингового балла (то есть, ks - целевая переменная). Произвести расчет как с использованием intercept, так и без."
   ]
  },
  {
   "cell_type": "code",
   "execution_count": 3,
   "metadata": {},
   "outputs": [],
   "source": [
    "import numpy as np\n",
    "X = np.array([35, 45, 190, 200, 40, 70, 54, 150, 120, 110])\n",
    "y = np.array([401, 574, 874, 919, 459, 739, 653, 902, 746, 832])"
   ]
  },
  {
   "cell_type": "code",
   "execution_count": 7,
   "metadata": {},
   "outputs": [
    {
     "data": {
      "image/png": "[encoded data removed]",
      "text/plain": [
       "<Figure size 432x288 with 1 Axes>"
      ]
     },
     "metadata": {
      "needs_background": "light"
     },
     "output_type": "display_data"
    }
   ],
   "source": [
    "import matplotlib.pyplot as plt\n",
    "plt.scatter(X,y)\n",
    "plt.show()"
   ]
  },
  {
   "cell_type": "code",
   "execution_count": 4,
   "metadata": {},
   "outputs": [
    {
     "data": {
      "text/plain": [
       "2.620538882402765"
      ]
     },
     "execution_count": 4,
     "metadata": {},
     "output_type": "execute_result"
    }
   ],
   "source": [
    "#расчет с использованием интерсепта\n",
    "b = (np.mean(X*y) - np.mean(X) * np.mean(y)) / (np.mean(X**2) - (np.mean(X))**2)\n",
    "b"
   ]
  },
  {
   "cell_type": "code",
   "execution_count": 5,
   "metadata": {},
   "outputs": [
    {
     "data": {
      "text/plain": [
       "444.1773573243596"
      ]
     },
     "execution_count": 5,
     "metadata": {},
     "output_type": "execute_result"
    }
   ],
   "source": [
    "a = np.mean(y) - b * np.mean(X)\n",
    "a"
   ]
  },
  {
   "cell_type": "code",
   "execution_count": 6,
   "metadata": {},
   "outputs": [
    {
     "data": {
      "text/plain": [
       "array([535.89621821, 562.10160703, 942.07974498, 968.2851338 ,\n",
       "       548.99891262, 627.61507909, 585.68645697, 837.25818968,\n",
       "       758.64202321, 732.43663439])"
      ]
     },
     "execution_count": 6,
     "metadata": {},
     "output_type": "execute_result"
    }
   ],
   "source": [
    "y_hat = a + b*X\n",
    "y_hat"
   ]
  },
  {
   "cell_type": "code",
   "execution_count": 8,
   "metadata": {},
   "outputs": [
    {
     "data": {
      "image/png": "[encoded data removed]",
      "text/plain": [
       "<Figure size 432x288 with 1 Axes>"
      ]
     },
     "metadata": {
      "needs_background": "light"
     },
     "output_type": "display_data"
    }
   ],
   "source": [
    "%matplotlib inline\n",
    "plt.scatter(X,y)\n",
    "plt.plot(X,a + b*X)\n",
    "plt.show()"
   ]
  },
  {
   "cell_type": "code",
   "execution_count": 9,
   "metadata": {},
   "outputs": [
    {
     "data": {
      "text/plain": [
       "6470.414201176658"
      ]
     },
     "execution_count": 9,
     "metadata": {},
     "output_type": "execute_result"
    }
   ],
   "source": [
    "#найдем среднюю квадратичную ошибку\n",
    "mse = ((y - y_hat)**2).sum() / 10\n",
    "mse"
   ]
  },
  {
   "cell_type": "code",
   "execution_count": 13,
   "metadata": {},
   "outputs": [
    {
     "data": {
      "text/plain": [
       "array([[ 35],\n",
       "       [ 45],\n",
       "       [190],\n",
       "       [200],\n",
       "       [ 40],\n",
       "       [ 70],\n",
       "       [ 54],\n",
       "       [150],\n",
       "       [120],\n",
       "       [110]])"
      ]
     },
     "execution_count": 13,
     "metadata": {},
     "output_type": "execute_result"
    }
   ],
   "source": [
    "#найдем коэффициент линейной регрессии без интерсепта с использованием матричного метода\n",
    "X = X.reshape(10,1)\n",
    "X"
   ]
  },
  {
   "cell_type": "code",
   "execution_count": 15,
   "metadata": {},
   "outputs": [
    {
     "data": {
      "text/plain": [
       "array([[401],\n",
       "       [574],\n",
       "       [874],\n",
       "       [919],\n",
       "       [459],\n",
       "       [739],\n",
       "       [653],\n",
       "       [902],\n",
       "       [746],\n",
       "       [832]])"
      ]
     },
     "execution_count": 15,
     "metadata": {},
     "output_type": "execute_result"
    }
   ],
   "source": [
    "y = y.reshape(10,1)\n",
    "y"
   ]
  },
  {
   "cell_type": "code",
   "execution_count": 16,
   "metadata": {},
   "outputs": [
    {
     "data": {
      "text/plain": [
       "array([[5.88982042]])"
      ]
     },
     "execution_count": 16,
     "metadata": {},
     "output_type": "execute_result"
    }
   ],
   "source": [
    "B = np.dot(np.linalg.inv(np.dot(X.T,X)),X.T@y) \n",
    "B"
   ]
  },
  {
   "cell_type": "code",
   "execution_count": 20,
   "metadata": {},
   "outputs": [
    {
     "data": {
      "text/plain": [
       "5.889820420132688"
      ]
     },
     "execution_count": 20,
     "metadata": {},
     "output_type": "execute_result"
    }
   ],
   "source": [
    "B[0][0]"
   ]
  },
  {
   "cell_type": "code",
   "execution_count": 22,
   "metadata": {},
   "outputs": [
    {
     "data": {
      "text/plain": [
       "array([[ 206.1437147 ],\n",
       "       [ 265.04191891],\n",
       "       [1119.06587983],\n",
       "       [1177.96408403],\n",
       "       [ 235.59281681],\n",
       "       [ 412.28742941],\n",
       "       [ 318.05030269],\n",
       "       [ 883.47306302],\n",
       "       [ 706.77845042],\n",
       "       [ 647.88024621]])"
      ]
     },
     "execution_count": 22,
     "metadata": {},
     "output_type": "execute_result"
    }
   ],
   "source": [
    "y_hat = B[0][0] * X\n",
    "y_hat"
   ]
  },
  {
   "cell_type": "code",
   "execution_count": 23,
   "metadata": {},
   "outputs": [
    {
     "data": {
      "image/png": "[encoded data removed]",
      "text/plain": [
       "<Figure size 432x288 with 1 Axes>"
      ]
     },
     "metadata": {
      "needs_background": "light"
     },
     "output_type": "display_data"
    }
   ],
   "source": [
    "%matplotlib inline\n",
    "plt.scatter(X,y)\n",
    "plt.plot(X,B[0][0]*X)\n",
    "plt.show()"
   ]
  },
  {
   "cell_type": "code",
   "execution_count": 24,
   "metadata": {},
   "outputs": [
    {
     "data": {
      "text/plain": [
       "56516.8584157194"
      ]
     },
     "execution_count": 24,
     "metadata": {},
     "output_type": "execute_result"
    }
   ],
   "source": [
    "#найдем среднюю квадратичную ошибку\n",
    "mse = ((y - y_hat)**2).sum() / 10\n",
    "mse"
   ]
  },
  {
   "cell_type": "markdown",
   "metadata": {},
   "source": [
    "2. Посчитать коэффициент линейной регрессии при заработной плате (zp), используя градиентный спуск (без intercept). "
   ]
  },
  {
   "cell_type": "code",
   "execution_count": 25,
   "metadata": {},
   "outputs": [],
   "source": [
    "X = np.array([35, 45, 190, 200, 40, 70, 54, 150, 120, 110])\n",
    "y = np.array([401, 574, 874, 919, 459, 739, 653, 902, 746, 832])"
   ]
  },
  {
   "cell_type": "code",
   "execution_count": 26,
   "metadata": {},
   "outputs": [],
   "source": [
    "def mse(B1, X=X, y=y, n=10):\n",
    "    return np.sum((B1*X - y)**2) / n"
   ]
  },
  {
   "cell_type": "code",
   "execution_count": 27,
   "metadata": {},
   "outputs": [
    {
     "data": {
      "text/plain": [
       "1e-06"
      ]
     },
     "execution_count": 27,
     "metadata": {},
     "output_type": "execute_result"
    }
   ],
   "source": [
    "alpha = 0.000001\n",
    "alpha"
   ]
  },
  {
   "cell_type": "code",
   "execution_count": 29,
   "metadata": {},
   "outputs": [
    {
     "name": "stdout",
     "output_type": "stream",
     "text": [
      "B1 = 3.0796238\n",
      "B1 = 3.15705370951384\n",
      "B1 = 3.232350177244863\n",
      "B1 = 3.3055719863412\n",
      "B1 = 3.3767763002871436\n",
      "B1 = 3.446018707530072\n",
      "B1 = 3.5133532648777543\n",
      "B1 = 3.5788325396999245\n",
      "B1 = 3.6425076509670644\n",
      "B1 = 3.704428309158439\n"
     ]
    }
   ],
   "source": [
    "B1 = 3\n",
    "n = 10\n",
    "for i in range(10):\n",
    "    B1 -= alpha * (2/n) * np.sum((B1*X-y)*X)\n",
    "    print('B1 = {}'.format(B1))"
   ]
  },
  {
   "cell_type": "code",
   "execution_count": 31,
   "metadata": {},
   "outputs": [
    {
     "name": "stdout",
     "output_type": "stream",
     "text": [
      "Iteration: 0, B1 = 3.7646428550705346, mse = 118737.21475713658\n",
      "Iteration: 10, B1 = 4.282680318017608, mse = 92100.42901992159\n",
      "Iteration: 20, B1 = 4.6744399501478515, mse = 76866.95879117158\n",
      "Iteration: 30, B1 = 4.970703483857776, mse = 68154.99866581765\n",
      "Iteration: 40, B1 = 5.1947492359150225, mse = 63172.66384085349\n",
      "Iteration: 50, B1 = 5.36418115480939, mse = 60323.28666845249\n",
      "Iteration: 60, B1 = 5.492312015924274, mse = 58693.73936666948\n",
      "Iteration: 70, B1 = 5.589209446332751, mse = 57761.80784336377\n",
      "Iteration: 80, B1 = 5.662486968532084, mse = 57228.839967450825\n",
      "Iteration: 90, B1 = 5.71790221780173, mse = 56924.037790840746\n"
     ]
    }
   ],
   "source": [
    "for i in range(100):\n",
    "    B1 -= alpha * (2/n) * np.sum((B1*X-y)*X)\n",
    "    if i%10 ==0:\n",
    "        print('Iteration: {i}, B1 = {B1}, mse = {mse}'.format(i=i, B1=B1, mse=mse(B1)))"
   ]
  },
  {
   "cell_type": "code",
   "execution_count": 32,
   "metadata": {},
   "outputs": [
    {
     "name": "stdout",
     "output_type": "stream",
     "text": [
      "Iteration: 0, B1 = 5.759809336921608, mse = 56749.7226565428\n",
      "Iteration: 500, B1 = 5.889820308727315, mse = 56516.85841571957\n",
      "Iteration: 1000, B1 = 5.889820420132593, mse = 56516.8584157194\n",
      "Iteration: 1500, B1 = 5.889820420132673, mse = 56516.85841571943\n",
      "Iteration: 2000, B1 = 5.889820420132673, mse = 56516.85841571943\n",
      "Iteration: 2500, B1 = 5.889820420132673, mse = 56516.85841571943\n",
      "Iteration: 3000, B1 = 5.889820420132673, mse = 56516.85841571943\n",
      "Iteration: 3500, B1 = 5.889820420132673, mse = 56516.85841571943\n",
      "Iteration: 4000, B1 = 5.889820420132673, mse = 56516.85841571943\n",
      "Iteration: 4500, B1 = 5.889820420132673, mse = 56516.85841571943\n"
     ]
    }
   ],
   "source": [
    "for i in range(5000):\n",
    "    B1 -= alpha * (2/n) * np.sum((B1*X-y)*X)\n",
    "    if i%500 ==0:\n",
    "        print('Iteration: {i}, B1 = {B1}, mse = {mse}'.format(i=i, B1=B1, mse=mse(B1)))"
   ]
  },
  {
   "cell_type": "code",
   "execution_count": 33,
   "metadata": {},
   "outputs": [
    {
     "data": {
      "text/plain": [
       "56516.85841571941"
      ]
     },
     "execution_count": 33,
     "metadata": {},
     "output_type": "execute_result"
    }
   ],
   "source": [
    "mse(5.8898204)"
   ]
  },
  {
   "cell_type": "markdown",
   "metadata": {},
   "source": [
    "*3. Произвести вычисления как в пункте 2, но с вычислением intercept. Учесть, что изменение коэффициентов должно производиться на каждом шаге одновременно (то есть изменение одного коэффициента не должно влиять на изменение другого во время одной итерации)."
   ]
  },
  {
   "cell_type": "code",
   "execution_count": 4,
   "metadata": {},
   "outputs": [],
   "source": [
    "X = np.array([35, 45, 190, 200, 40, 70, 54, 150, 120, 110])\n",
    "y = np.array([401, 574, 874, 919, 459, 739, 653, 902, 746, 832])"
   ]
  },
  {
   "cell_type": "code",
   "execution_count": 19,
   "metadata": {},
   "outputs": [],
   "source": [
    "def mse(B0, B1, X=X, y=y, n=10):\n",
    "    return np.sum((B0+B1*X - y)**2) / n"
   ]
  },
  {
   "cell_type": "code",
   "execution_count": 20,
   "metadata": {},
   "outputs": [],
   "source": [
    "alpha0 = 0.0001\n",
    "alpha1 = 0.000001"
   ]
  },
  {
   "cell_type": "code",
   "execution_count": 10,
   "metadata": {},
   "outputs": [],
   "source": [
    "# производная по B0:\n",
    "#(2/n) * np.sum(B0+B1*X-y)\n",
    "# производная по B1:\n",
    "#(2/n) * np.sum((B0+B1*X-y)*X)"
   ]
  },
  {
   "cell_type": "code",
   "execution_count": 29,
   "metadata": {},
   "outputs": [
    {
     "name": "stdout",
     "output_type": "stream",
     "text": [
      "B0 = 2.10102, B1 = 2.106750913144\n",
      "B0 = 2.1998548874814396, B1 = 2.2105404533127793\n",
      "B0 = 2.29656515611076, B1 = 2.3114506466809024\n",
      "B0 = 2.391209623964849, B1 = 2.409561247411034\n",
      "B0 = 2.4838454799425604, B1 = 2.504949800585536\n",
      "B0 = 2.5745283288906973, B1 = 2.5976917033949434\n",
      "B0 = 2.6633122354800696, B1 = 2.6878602646316065\n",
      "B0 = 2.7502497668662444, B1 = 2.7755267625354385\n",
      "B0 = 2.8353920341686525, B1 = 2.8607605010374177\n",
      "B0 = 2.9187887328007798, B1 = 2.9436288644452215\n"
     ]
    }
   ],
   "source": [
    "B0 = 2\n",
    "B1 = 2\n",
    "n = 10\n",
    "for i in range(10):\n",
    "    B0 -= alpha0 * (2/n) * np.sum(B0+B1*X-y)\n",
    "    B1 -= alpha1 * (2/n) * np.sum((B0+B1*X-y)*X)\n",
    "    print('B0 = {}, B1 = {}'.format(B0, B1))"
   ]
  },
  {
   "cell_type": "code",
   "execution_count": 35,
   "metadata": {},
   "outputs": [
    {
     "name": "stdout",
     "output_type": "stream",
     "text": [
      "Iteration: 0, B0 = 444.1764785279224, B1 = 2.620545362155919, mse =6470.4142013725605 \n",
      "Iteration: 10000, B0 = 444.1768267955459, B1 = 2.6205427942253534, mse =6470.414201248056 \n",
      "Iteration: 20000, B0 = 444.1770370444767, B1 = 2.620541243967393, mse =6470.414201202682 \n",
      "Iteration: 30000, B0 = 444.1771639716119, B1 = 2.620540308077726, mse =6470.414201186141 \n",
      "Iteration: 40000, B0 = 444.1772405974375, B1 = 2.6205397430817676, mse =6470.414201180115 \n",
      "Iteration: 50000, B0 = 444.17728685639696, B1 = 2.6205394019940855, mse =6470.414201177914 \n",
      "Iteration: 60000, B0 = 444.1773147828976, B1 = 2.6205391960797004, mse =6470.414201177116 \n",
      "Iteration: 70000, B0 = 444.1773316421089, B1 = 2.6205390717693104, mse =6470.414201176825 \n",
      "Iteration: 80000, B0 = 444.1773418200032, B1 = 2.620538996723213, mse =6470.414201176722 \n",
      "Iteration: 90000, B0 = 444.1773479643897, B1 = 2.620538951417945, mse =6470.414201176682 \n",
      "Iteration: 100000, B0 = 444.1773516737524, B1 = 2.620538924067181, mse =6470.414201176663 \n",
      "Iteration: 110000, B0 = 444.17735391309225, B1 = 2.6205389075555416, mse =6470.414201176665 \n",
      "Iteration: 120000, B0 = 444.1773552649803, B1 = 2.620538897587476, mse =6470.414201176663 \n",
      "Iteration: 130000, B0 = 444.17735608111354, B1 = 2.6205388915697667, mse =6470.414201176658 \n",
      "Iteration: 140000, B0 = 444.17735657381223, B1 = 2.620538887936884, mse =6470.414201176655 \n",
      "Iteration: 150000, B0 = 444.1773568712535, B1 = 2.620538885743718, mse =6470.414201176658 \n",
      "Iteration: 160000, B0 = 444.177357050819, B1 = 2.6205388844197044, mse =6470.414201176654 \n",
      "Iteration: 170000, B0 = 444.1773571592228, B1 = 2.620538883620393, mse =6470.414201176655 \n",
      "Iteration: 180000, B0 = 444.17735722466614, B1 = 2.6205388831378493, mse =6470.4142011766535 \n",
      "Iteration: 190000, B0 = 444.1773572641738, B1 = 2.620538882846542, mse =6470.414201176664 \n",
      "Iteration: 200000, B0 = 444.17735728802245, B1 = 2.620538882670696, mse =6470.414201176659 \n",
      "Iteration: 210000, B0 = 444.17735730242464, B1 = 2.620538882564502, mse =6470.414201176658 \n",
      "Iteration: 220000, B0 = 444.17735731111, B1 = 2.6205388825004667, mse =6470.414201176657 \n",
      "Iteration: 230000, B0 = 444.1773573163499, B1 = 2.6205388824618208, mse =6470.41420117666 \n",
      "Iteration: 240000, B0 = 444.17735731951865, B1 = 2.620538882438451, mse =6470.4142011766635 \n",
      "Iteration: 250000, B0 = 444.1773573214483, B1 = 2.620538882424232, mse =6470.414201176659 \n",
      "Iteration: 260000, B0 = 444.1773573226167, B1 = 2.6205388824156173, mse =6470.414201176658 \n",
      "Iteration: 270000, B0 = 444.17735732321154, B1 = 2.6205388824112235, mse =6470.41420117666 \n",
      "Iteration: 280000, B0 = 444.17735732378, B1 = 2.6205388824070392, mse =6470.41420117666 \n",
      "Iteration: 290000, B0 = 444.17735732379623, B1 = 2.62053888240692, mse =6470.414201176657 \n"
     ]
    }
   ],
   "source": [
    "for i in range(300000):\n",
    "    B0 -= alpha0 * (2/n) * np.sum(B0+B1*X-y)\n",
    "    B1 -= alpha1 * (2/n) * np.sum((B0+B1*X-y)*X)\n",
    "    if i%10000 ==0:\n",
    "        print('Iteration: {i}, B0 = {B0}, B1 = {B1}, mse ={mse} '.format(i=i, B0=B0, B1=B1, mse=mse(B0,B1)))"
   ]
  },
  {
   "cell_type": "code",
   "execution_count": 36,
   "metadata": {},
   "outputs": [
    {
     "data": {
      "text/plain": [
       "6470.414201176654"
      ]
     },
     "execution_count": 36,
     "metadata": {},
     "output_type": "execute_result"
    }
   ],
   "source": [
    "mse(444.1773573238, 2.6205388824)"
   ]
  },
  {
   "cell_type": "code",
   "execution_count": null,
   "metadata": {},
   "outputs": [],
   "source": []
  }
 ],
 "metadata": {
  "kernelspec": {
   "display_name": "Python 3",
   "language": "python",
   "name": "python3"
  },
  "language_info": {
   "codemirror_mode": {
    "name": "ipython",
    "version": 3
   },
   "file_extension": ".py",
   "mimetype": "text/x-python",
   "name": "python",
   "nbconvert_exporter": "python",
   "pygments_lexer": "ipython3",
   "version": "3.7.4"
  }
 },
 "nbformat": 4,
 "nbformat_minor": 2
}
